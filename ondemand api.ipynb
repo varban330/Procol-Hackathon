{
 "cells": [
  {
   "cell_type": "code",
   "execution_count": 10,
   "metadata": {},
   "outputs": [],
   "source": [
    "from newsplease import NewsPlease\n"
   ]
  },
  {
   "cell_type": "code",
   "execution_count": 25,
   "metadata": {},
   "outputs": [],
   "source": [
    "article = NewsPlease.from_url('https://economictimes.indiatimes.com/markets/commodities/news/basmati-acreage-may-rise-up-to-20-on-higher-iran-demand/articleshow/69572834.cms')"
   ]
  },
  {
   "cell_type": "code",
   "execution_count": 26,
   "metadata": {},
   "outputs": [
    {
     "data": {
      "text/plain": [
       "'Basmati acreage may rise up to 20% on higher Iran demand'"
      ]
     },
     "execution_count": 26,
     "metadata": {},
     "output_type": "execute_result"
    }
   ],
   "source": [
    "article.title"
   ]
  },
  {
   "cell_type": "code",
   "execution_count": 27,
   "metadata": {},
   "outputs": [
    {
     "data": {
      "text/plain": [
       "'Chandigarh: Farmers are expected to grow more Basmati rice this kharif season , with the acreage under cultivation likely to go up by up to 20 per cent, driven by higher remuneration, low carryover stock and increased demand from Iran.“Going by the sale of seeds, many farmers are likely to shift from normal paddy to Basmati this year as the income has been better in the last season,” a Haryana agriculture department official said.Normal rice cultivation has started with planting of nurseries in the Northern states and will be followed by sowing of Basmati rice in the coming weeks. The area under Basmati is expected to grow by 20-25 per cent in Punjab this season as farmers’ income rose 15-20 per cent in the last season.“The Basmati industry follows a cyclical trade trajectory and the previous year had been a good year,” a rice trader said. “There will be little carryover stock due to better-than-usual international demand for Basmati. So, the market is expected to remain firm in the coming months,” said Vijay Sethia, president of the All India Rice Exporters Association Export of the premium variety — India has an 85 per cent share in the Basmati exports market — has grown by 10 per cent in 2018-19, primarily due to higher demand from Iran.The prevailing global rice trade is impervious to geopolitical tensions between the United States and Iran, although exporters are unsure of payments in the next season in case of a flare-up.“Basmati exports to Iran have braved the international turmoil in the past and a shipment usually gets routed through the UAE in case of hurdles,” an official in the Agricultural and Processed Food Products Export Development Authority (APEDA) said.Iran buys a quarter of the total Basmati rice that India exports, but trade volumes have grown substantially in 2018-19. The Gulf nation bought 1.4 million tonnes of Basmati rice in 2018-19 compared to its usual demand of around 1 million tonnes.Total Basmati rice exports from India stood at 4.415 million tonnes in 2018-19, compared to 4.056 million tonnes in the previous financial year. Traders say the current trade balance between India and Iran is conducive for rice export and payments would not be affected, but the likelihood of an escalation in US-Iran relations is keeping exporters on tenterhooks. “There are no hurdles foreseen in payments for rice trade from Iran in the next few months, but the international trade could be affected by a situation of when the new crop will be available,” said Vinod Kumar Kaul, executive director, All India Rice Exporters Association. Basmati rice is harvested by November, but Iran opens up the import window after its domestic rice season gets over by December. The payment for rice exports to Iran is managed through an escrow account that is balanced with crude oil supply. “The crude oil trade import from Iran is conducive for rice trade and may take care of the next season as well, but hurdles in payment could be a concern in the next season,” said Amit Miglani, managing director of rice exporter Lekh Raj Narinder Kumar.'"
      ]
     },
     "execution_count": 27,
     "metadata": {},
     "output_type": "execute_result"
    }
   ],
   "source": [
    "article.text"
   ]
  },
  {
   "cell_type": "code",
   "execution_count": 11,
   "metadata": {},
   "outputs": [],
   "source": [
    "import requests\n",
    "import urllib.request\n",
    "import time\n",
    "from bs4 import BeautifulSoup"
   ]
  },
  {
   "cell_type": "code",
   "execution_count": 3,
   "metadata": {},
   "outputs": [],
   "source": [
    "url = 'https://economictimes.indiatimes.com/topic/Rice'\n",
    "response = requests.get(url)"
   ]
  },
  {
   "cell_type": "code",
   "execution_count": 4,
   "metadata": {},
   "outputs": [
    {
     "data": {
      "text/plain": [
       "<Response [200]>"
      ]
     },
     "execution_count": 4,
     "metadata": {},
     "output_type": "execute_result"
    }
   ],
   "source": [
    "response"
   ]
  },
  {
   "cell_type": "code",
   "execution_count": 6,
   "metadata": {},
   "outputs": [],
   "source": [
    "# Import libraries\n",
    "import requests\n",
    "import urllib.request\n",
    "import time\n",
    "from bs4 import BeautifulSoup\n",
    "from newsplease import NewsPlease\n",
    "\n",
    "subscription_key = \"sy5hykat267hzj83utqa10dpxspszr4f\"\n",
    "assert subscription_key\n",
    "\n",
    "def sentiment(string):\n",
    "    api_url = 'https://stormy-refuge-29936.herokuapp.com/sentiment/'\n",
    "    headers = { 'Ocp-Apim-Subscription-Key': subscription_key,\n",
    "               'Content-Type': 'application/json'\n",
    "              }\n",
    "    body = {\n",
    "        'text': string,\n",
    "    }\n",
    "    response = requests.post(api_url, headers=headers, json = body)\n",
    "    status = response.json()\n",
    "    if response.status_code == 200:\n",
    "        sentiment = status[\"message\"]\n",
    "        return sentiment\n",
    "    else:\n",
    "        return \"Try Again Later\"\n",
    "\n",
    "\n",
    "# Set the URL you want to webscrape from\n",
    "def scrape(string):\n",
    "    url = 'https://economictimes.indiatimes.com/topic/'+string\n",
    "\n",
    "    # Connect to the URL\n",
    "    response = requests.get(url)\n",
    "\n",
    "    # Parse HTML and save to BeautifulSoup object¶\n",
    "    soup = BeautifulSoup(response.text, \"html.parser\")\n",
    "    articles = []\n",
    "\n",
    "    x = soup.findAll('a')\n",
    "    # To download the whole data set, let's do a for loop through all a tags\n",
    "    for i in range(len(x)): #'a' tags are for links\n",
    "        one_a_tag = x[i]\n",
    "        if one_a_tag.has_attr('href'):\n",
    "            link = one_a_tag['href']\n",
    "            if  not link.startswith('http'):\n",
    "                if link.startswith('/markets'):\n",
    "                    download_url = 'https://economictimes.indiatimes.com'+ link\n",
    "                    print(download_url)\n",
    "                    articles.append(NewsPlease.from_url(download_url))\n",
    "                    \n",
    "    sentiments = list()\n",
    "                        \n",
    "    for article in articles:\n",
    "        string =  article.title + '\\n' + article.text\n",
    "        sentiments.append(sentiment(string))\n",
    "        \n",
    "    return sentiments\n"
   ]
  },
  {
   "cell_type": "code",
   "execution_count": 7,
   "metadata": {},
   "outputs": [
    {
     "name": "stdout",
     "output_type": "stream",
     "text": [
      "https://economictimes.indiatimes.com/markets/stocks/news/these-two-fund-houses-alone-have-56-exposure-to-dhfl-debt/articleshow/69700830.cms\n",
      "https://economictimes.indiatimes.com/markets\n",
      "https://economictimes.indiatimes.com/markets/commodities/news/payment-haze-rice-soya-exporters-unable-to-sign-contracts-with-iran/articleshow/69684911.cms\n",
      "https://economictimes.indiatimes.com/markets/commodities/news/basmati-acreage-may-rise-up-to-20-on-higher-iran-demand/articleshow/69572834.cms\n",
      "https://economictimes.indiatimes.com/marketstats/noofmonths-1,pageno-1,pid-181.cms\n",
      "https://economictimes.indiatimes.com/markets/ipo\n",
      "https://economictimes.indiatimes.com/marketstats/pid-0,pageno-1,sortby-percentchange,sortorder-desc,sort-intraday,exchange-50.cms\n",
      "https://economictimes.indiatimes.com/markets/stocks/news/uti-mutual-fund-fully-writes-off-dhfl-exposure/articleshow/69690993.cms\n",
      "https://economictimes.indiatimes.com/markets/stocks/news/uti-mutual-fund-fully-writes-off-dhfl-exposure/articleshow/69690993.cms\n",
      "https://economictimes.indiatimes.com/marketstats/pid-0,pageno-1,sortby-percentchange,sortorder-desc,sort-intraday.cms\n",
      "https://economictimes.indiatimes.com/markets/stocks/news/rbi-issues-revised-circular-on-npas-lenders-can-review-accounts-within-30-days-of-default/articleshow/69692236.cms\n",
      "https://economictimes.indiatimes.com/markets/stocks/news/rbi-issues-revised-circular-on-npas-lenders-can-review-accounts-within-30-days-of-default/articleshow/69692236.cms\n",
      "https://economictimes.indiatimes.com/markets/statistics/marketcoverage.cms\n",
      "https://economictimes.indiatimes.com/markets/stock-market-crash\n",
      "https://economictimes.indiatimes.com/markets/forex/indian-rupee\n",
      "https://economictimes.indiatimes.com/markets/rbi\n",
      "https://economictimes.indiatimes.com/markets/forex/currency-converter\n",
      "https://economictimes.indiatimes.com/markets/stocks/news/d-day-guide-third-straight-rbi-rate-cut-seen-as-economy-cools/articleshow/69671599.cms\n",
      "https://economictimes.indiatimes.com/markets/stocks/news/full-text-what-drove-rbi-to-cut-rate-shift-stance/articleshow/69672669.cms\n",
      "https://economictimes.indiatimes.com/markets/stocks/news/rbi-issues-revised-circular-on-npas-lenders-can-review-accounts-within-30-days-of-default/articleshow/69692236.cms\n",
      "['Negative', 'Positive', 'Positive', 'Negative', 'Negative', 'Negative', 'Negative', 'Negative', 'Negative', 'Negative', 'Positive', 'Positive', 'Negative', 'Positive', 'Positive', 'Positive', 'Negative', 'Negative', 'Positive', 'Positive']\n",
      "--- 50.04768109321594 seconds ---\n"
     ]
    }
   ],
   "source": [
    "start_time = time.time()\n",
    "x = scrape(\"Rice\")\n",
    "print(x)\n",
    "print(\"--- %s seconds ---\" % (time.time() - start_time))\n",
    "\n"
   ]
  },
  {
   "cell_type": "code",
   "execution_count": 46,
   "metadata": {},
   "outputs": [
    {
     "data": {
      "text/plain": [
       "'DHFL uses cash from sale of loans to clear obligations'"
      ]
     },
     "execution_count": 46,
     "metadata": {},
     "output_type": "execute_result"
    }
   ],
   "source": [
    "x[0].title"
   ]
  },
  {
   "cell_type": "code",
   "execution_count": 47,
   "metadata": {},
   "outputs": [
    {
     "data": {
      "text/plain": [
       "'Markets Live Coverage: Live Market Stats, Live MCX, Forex'"
      ]
     },
     "execution_count": 47,
     "metadata": {},
     "output_type": "execute_result"
    }
   ],
   "source": [
    "x[10].title"
   ]
  },
  {
   "cell_type": "code",
   "execution_count": 48,
   "metadata": {},
   "outputs": [
    {
     "name": "stdout",
     "output_type": "stream",
     "text": [
      "Mumbai: Dewan Housing Finance Corp Ltd ( DHFL ) has paid Rs 100 crore to investors in its commercial paper , due for redemption on Friday, from the proceeds of loan portfolios the company recently sold to financiers.DHFL raised Rs 350-400 crore collectively by selling loan portfolios, said two people with direct knowledge of the matter. Besides paying investors in its commercial paper, or short-term debt instruments, the troubled home financier used the rest of the sale proceeds to partially pay due interest on bonds sold last year, and to meet repayment obligations on outstanding fixed deposits accepted from subscribers, sources told ET.Bajaj Allianz General Insurance was the investor in DHFL’s commercial paper.DHFL had failed to pay about Rs 1,000 crore by way of interest that had fallen due on Tuesday on a set of bonds sold last summer.The troubled home financier didn’t answer ET’s queries on the repayments till the time of going to press. An email sent to Bajaj Allianz late in the evening remained unanswered.The company was also planning to sell two sets of builder loans to meet immediate debt obligations. The portfolios were expected to garner about Rs 900 crore, ET reported Thursday, citing a rating company report.Over the past few days, CRISIL, ICRA and CARE have downgraded DHFL’s debt securities to ‘D’, or ‘default’ category, citing the delay in interest payments to bond holders. The spate of downgrades has caused mutual funds with exposure to DHFL to mark down net asset values.DHFL shares have slumped 33 per cent in June on investor concerns about solvency at the home financier, which has been facing a cash crunch since September. The stock lost 11 per cent on Friday to close at Rs 83.50 apiece on the BSE.\n",
      "Never miss a great news story!\n",
      "Get instant notifications from Economic Times\n",
      "AllowNot now\n",
      "You can switch off notifications anytime using browser settings.\n",
      "New Delhi: Indian rice and soya bean exporters have asked the government to issue guidelines about the system of payments for exports to Iran because they are unable to sign contracts in the absence of clarity after the US ended India’s waiver from sanctions against Iran. Iran has remained the largest importer of basmati rice from India in recent years, buying over 30 per cent of the total exports of the commodity from India. It also buys more than a quarter of the 1.5 million tonnes of soya bean meal exported from India.“We are worried about what will happen with exports to Iran. The government should bring some clarity for the trade ,” said Aman Gupta, MD at Shiv Shakti Inter Globe Export. He said they were currently meeting deadlines of old export contracts.“Iranian importers usually go for bulk buying like 100-200 containers. At this stage, we are only signing smaller orders of 10-20 containers. Some exporters have even stopped future contracts,” said Gupta.Iran has been a major destination for the export of soya bean meal, which is used by the livestock and poultry feed industry. “We have been exporting 1 lakh tonne soya bean meal every month, which has now come to a standstill because of no clarity on remittance,” said Davish Jain, chairman at Soybean Processors Association of India (SOPA). He added that good exports from the country had ensured that farmers got remunerative prices. Exporters said they were getting payments from the UCO Bank, but have been told informally not to go for letter of credit (LC) transactions owing to the threat of any new US sanctions. “We are only exporting when money is being sent in advance,” said an exporter from Mumbai. This has led to volatility in basmati rice prices, they said. According to the trade, basmati rice (1121 variety) has moved from Rs 73 a kg in the first week of May to touch a high of Rs 82 a kg and is now at Rs 77 a kg, said an exporter.“With the formation of the new government at the Centre, we are hopeful of getting some guidelines and directions about the system of payments and trade ties with Iran,” said Vinod Kumar Kaul, executive director at All India Rice Exporters Association. Iran imported 10.80 lakh tonnes of basmati rice from India, valued at Rs 781 crore, in the 10 months to January 2019.\n",
      "Chandigarh: Farmers are expected to grow more Basmati rice this kharif season , with the acreage under cultivation likely to go up by up to 20 per cent, driven by higher remuneration, low carryover stock and increased demand from Iran.“Going by the sale of seeds, many farmers are likely to shift from normal paddy to Basmati this year as the income has been better in the last season,” a Haryana agriculture department official said.Normal rice cultivation has started with planting of nurseries in the Northern states and will be followed by sowing of Basmati rice in the coming weeks. The area under Basmati is expected to grow by 20-25 per cent in Punjab this season as farmers’ income rose 15-20 per cent in the last season.“The Basmati industry follows a cyclical trade trajectory and the previous year had been a good year,” a rice trader said. “There will be little carryover stock due to better-than-usual international demand for Basmati. So, the market is expected to remain firm in the coming months,” said Vijay Sethia, president of the All India Rice Exporters Association Export of the premium variety — India has an 85 per cent share in the Basmati exports market — has grown by 10 per cent in 2018-19, primarily due to higher demand from Iran.The prevailing global rice trade is impervious to geopolitical tensions between the United States and Iran, although exporters are unsure of payments in the next season in case of a flare-up.“Basmati exports to Iran have braved the international turmoil in the past and a shipment usually gets routed through the UAE in case of hurdles,” an official in the Agricultural and Processed Food Products Export Development Authority (APEDA) said.Iran buys a quarter of the total Basmati rice that India exports, but trade volumes have grown substantially in 2018-19. The Gulf nation bought 1.4 million tonnes of Basmati rice in 2018-19 compared to its usual demand of around 1 million tonnes.Total Basmati rice exports from India stood at 4.415 million tonnes in 2018-19, compared to 4.056 million tonnes in the previous financial year. Traders say the current trade balance between India and Iran is conducive for rice export and payments would not be affected, but the likelihood of an escalation in US-Iran relations is keeping exporters on tenterhooks. “There are no hurdles foreseen in payments for rice trade from Iran in the next few months, but the international trade could be affected by a situation of when the new crop will be available,” said Vinod Kumar Kaul, executive director, All India Rice Exporters Association. Basmati rice is harvested by November, but Iran opens up the import window after its domestic rice season gets over by December. The payment for rice exports to Iran is managed through an escrow account that is balanced with crude oil supply. “The crude oil trade import from Iran is conducive for rice trade and may take care of the next season as well, but hurdles in payment could be a concern in the next season,” said Amit Miglani, managing director of rice exporter Lekh Raj Narinder Kumar.\n",
      "Never miss a great news story!\n",
      "Get instant notifications from Economic Times\n",
      "AllowNot now\n",
      "You can switch off notifications anytime using browser settings.\n",
      "Never miss a great news story!\n",
      "Get instant notifications from Economic Times\n",
      "AllowNot now\n",
      "You can switch off notifications anytime using browser settings.\n",
      "Never miss a great news story!\n",
      "Get instant notifications from Economic Times\n",
      "AllowNot now\n",
      "You can switch off notifications anytime using browser settings.\n",
      "Never miss a great news story!\n",
      "Get instant notifications from Economic Times\n",
      "AllowNot now\n",
      "You can switch off notifications anytime using browser settings.\n",
      "We have already passed on MCLR cut of almost 10 bps in the past. For cash credit and overdraft (CCOD) customers, the rate cut has been almost 30 bps and they will get a further 25 bps cut, said, Deputy MD & CFO,, in an interview with ETNOW.Edited excerpts:No, we have already passed on 25 bps in the past. The rate for borrowers is 8.25% against MCLR of 8.45%. With a further cut of 25 bps in repo rate, which happened yesterday, all our customers who avail the cash credit and overdraft (CCOD) of more than 1 lakh would start getting this benefit of 8% from 1st of July. So straightaway, 25 bps for all customers who are availing cash, credit and overdraft. For other customers, our asset-liability Committee (ALCO) would review the MCLR and then take a call.We have already passed on MCLR cut of almost 10 bps in the past. For CCOD customers, the rate cut has been almost 30 bps and they will get a further 25 bps cut. They are a substantial chunk of our balance sheet.I am talking of 25 bps after the rate cut which happened yesterday. But if you see the rate cut for the 50 bps which happened in the past, we have already passed on 10 bps for the MCLR and 30 bps for the customers who are availing the cash credit and overdraft facilities. Similarly, for home loans, a 15 bps cut has already been passed on.Yes, this has been done only by State Bank of India and when I am saying 65 bps, it is for those customers who are availing the cash credit and overdraft. It is not for the other customers. Depending on the type of facilities which you are enjoying from the bank and like the home loans, the cut is 15 bps. There may be a further cut but our ALCO would take a call on that.In the system, there was a liquidity issue and in June, the liquidity position is quite comfortable. For the first time, there is a surplus liquidity in the system and with the assurance coming from Reserve Bank of India yesterday and the measures which they have already taken to infuse the liquidity, if the liquidity position continues to be comfortable, then we will take a call on the deposit rates. We believe if the liquidity position continues to be comfortable, then all the banks would be in a better position to cut the rates on the deposit side and going forward also.Our capital raising decision has no relation with the market rate or at a higher level. It is more on the need base. We believe that at present, our capital can take care of almost 12% credit growth for the bank. What we are saying is that after the declaration of the second quarter result, we will review the position and if there is any potential for a credit growth of more than 12% or need to build up a buffer, then we would review the situation and may go for a capital raise.Right. Absolutely your interpretation is correct.Last year also, our corporate growth happened mostly from the government entities and with the budget coming in July, when there would be a demand from the government sector and investment from the private sector may also start coming in. So, if there is a potential for corporate credit growth of more than 11-12%, then we need to review the situation.The way we do our asset liability arrangement, our margins would not be affected by any change in the interest rate on the lending or the deposit side. It would remain neutral because we would be able to reduce on the lending side only if we are able to reduce on the deposit side. So, we have linked our savings bank rate with repo and have also linked the loans of cash credit and overdraft with repo rate. It would be neutral to the margins going forward.Yes, that is wonderful news because in March, the 10-year paper was almost 7.49%. The yield is around 7% now and definitely, it is wonderful news for all of us.I read only from the newspapers what is happening on the consolidation side. But yes consolidation is something which would be good for the banking sector in the future.The problem would be like banks with balance sheets of a smaller size would be very difficult to manage in such a competitive environment where there is a need to reduce the cost. So banks with smaller balance sheet and there would be issues about the cost, would have issues about the managerial bandwidth. Going forward, small banks’ profitability would be issue.We do not comment on the individual exposures and the clarification which we have given yesterday. We are saying that problems related to accounts like DHFL have already been taken into while given the guidance for FY19-20 that has been factored in while giving the guidance for the slippage as well as the credit cost.By and large, I would agree with your interpretation because what has happened is we need to segregate the different entities on the NBFC side. There are a large number of entities which are really good and they have been able to do a decent disbursement in the past also. The only issue was there was a liquidity issue for some of the NBFCs, but with the liquidity turning surplus into the system, good NBFCs would not be having a problem in terms of liquidity. The only issue would be depending on the issues on the individual entities there may be some issues. But we need to segregate the NBFCs depending on their qualities of the assets and depending on their liquidity problem.A number of resolutions has taken place. Only thing is we are taking a little longer time because there are issues which have gone to the highest court of the country also. That is taking some time but we believe resolutions would happen very soon and compared to the past, the resolutions under the IBC has been quite fast. So, that would not be issue as such going forward. Only thing is we need to speed up.Coming to SME stress, going forward, with better credit underwriting at the banks, with the better recovery mechanism in the banks and with the use of the GST and credit rating agencies, I think going forward stress in the SME sector would bound to come.It is too early to reach that conclusion. But with improvement in liquidity in the system, we would like to see some positive impact on all these sectors in the coming month.Let us see. We are talking on 7th of June. It is too early. There is still some time. Let us see what happens in the remaining part of June.\n",
      "We have already passed on MCLR cut of almost 10 bps in the past. For cash credit and overdraft (CCOD) customers, the rate cut has been almost 30 bps and they will get a further 25 bps cut, said, Deputy MD & CFO,, in an interview with ETNOW.Edited excerpts:No, we have already passed on 25 bps in the past. The rate for borrowers is 8.25% against MCLR of 8.45%. With a further cut of 25 bps in repo rate, which happened yesterday, all our customers who avail the cash credit and overdraft (CCOD) of more than 1 lakh would start getting this benefit of 8% from 1st of July. So straightaway, 25 bps for all customers who are availing cash, credit and overdraft. For other customers, our asset-liability Committee (ALCO) would review the MCLR and then take a call.We have already passed on MCLR cut of almost 10 bps in the past. For CCOD customers, the rate cut has been almost 30 bps and they will get a further 25 bps cut. They are a substantial chunk of our balance sheet.I am talking of 25 bps after the rate cut which happened yesterday. But if you see the rate cut for the 50 bps which happened in the past, we have already passed on 10 bps for the MCLR and 30 bps for the customers who are availing the cash credit and overdraft facilities. Similarly, for home loans, a 15 bps cut has already been passed on.Yes, this has been done only by State Bank of India and when I am saying 65 bps, it is for those customers who are availing the cash credit and overdraft. It is not for the other customers. Depending on the type of facilities which you are enjoying from the bank and like the home loans, the cut is 15 bps. There may be a further cut but our ALCO would take a call on that.In the system, there was a liquidity issue and in June, the liquidity position is quite comfortable. For the first time, there is a surplus liquidity in the system and with the assurance coming from Reserve Bank of India yesterday and the measures which they have already taken to infuse the liquidity, if the liquidity position continues to be comfortable, then we will take a call on the deposit rates. We believe if the liquidity position continues to be comfortable, then all the banks would be in a better position to cut the rates on the deposit side and going forward also.Our capital raising decision has no relation with the market rate or at a higher level. It is more on the need base. We believe that at present, our capital can take care of almost 12% credit growth for the bank. What we are saying is that after the declaration of the second quarter result, we will review the position and if there is any potential for a credit growth of more than 12% or need to build up a buffer, then we would review the situation and may go for a capital raise.Right. Absolutely your interpretation is correct.Last year also, our corporate growth happened mostly from the government entities and with the budget coming in July, when there would be a demand from the government sector and investment from the private sector may also start coming in. So, if there is a potential for corporate credit growth of more than 11-12%, then we need to review the situation.The way we do our asset liability arrangement, our margins would not be affected by any change in the interest rate on the lending or the deposit side. It would remain neutral because we would be able to reduce on the lending side only if we are able to reduce on the deposit side. So, we have linked our savings bank rate with repo and have also linked the loans of cash credit and overdraft with repo rate. It would be neutral to the margins going forward.Yes, that is wonderful news because in March, the 10-year paper was almost 7.49%. The yield is around 7% now and definitely, it is wonderful news for all of us.I read only from the newspapers what is happening on the consolidation side. But yes consolidation is something which would be good for the banking sector in the future.The problem would be like banks with balance sheets of a smaller size would be very difficult to manage in such a competitive environment where there is a need to reduce the cost. So banks with smaller balance sheet and there would be issues about the cost, would have issues about the managerial bandwidth. Going forward, small banks’ profitability would be issue.We do not comment on the individual exposures and the clarification which we have given yesterday. We are saying that problems related to accounts like DHFL have already been taken into while given the guidance for FY19-20 that has been factored in while giving the guidance for the slippage as well as the credit cost.By and large, I would agree with your interpretation because what has happened is we need to segregate the different entities on the NBFC side. There are a large number of entities which are really good and they have been able to do a decent disbursement in the past also. The only issue was there was a liquidity issue for some of the NBFCs, but with the liquidity turning surplus into the system, good NBFCs would not be having a problem in terms of liquidity. The only issue would be depending on the issues on the individual entities there may be some issues. But we need to segregate the NBFCs depending on their qualities of the assets and depending on their liquidity problem.A number of resolutions has taken place. Only thing is we are taking a little longer time because there are issues which have gone to the highest court of the country also. That is taking some time but we believe resolutions would happen very soon and compared to the past, the resolutions under the IBC has been quite fast. So, that would not be issue as such going forward. Only thing is we need to speed up.Coming to SME stress, going forward, with better credit underwriting at the banks, with the better recovery mechanism in the banks and with the use of the GST and credit rating agencies, I think going forward stress in the SME sector would bound to come.It is too early to reach that conclusion. But with improvement in liquidity in the system, we would like to see some positive impact on all these sectors in the coming month.Let us see. We are talking on 7th of June. It is too early. There is still some time. Let us see what happens in the remaining part of June.\n",
      "Never miss a great news story!\n",
      "Get instant notifications from Economic Times\n",
      "AllowNot now\n",
      "You can switch off notifications anytime using browser settings.\n",
      "Hunt for the brightest engineers in India\n",
      "A one stop platform that caters to the pulse of the pulsating energy.\n",
      "Get comprehensive update of the lightning industry at ET Realty Lightning\n",
      "Good for you, Good for the planet\n",
      "Having entered the offline market less than two years ago, Xiaomi claims that it...\n",
      "Hunt for the brightest engineers in India\n",
      "A one stop platform that caters to the pulse of the pulsating energy.\n",
      "Get comprehensive update of the lightning industry at ET Realty Lightning\n",
      "Good for you, Good for the planet\n",
      "Having entered the offline market less than two years ago, Xiaomi claims that it...\n",
      "Hunt for the brightest engineers in India\n",
      "A one stop platform that caters to the pulse of the pulsating energy.\n",
      "Get comprehensive update of the lightning industry at ET Realty Lightning\n",
      "Good for you, Good for the planet\n",
      "Having entered the offline market less than two years ago, Xiaomi claims that it...\n",
      "RBI releases prudential framework for resolution of stressed assets 7 Jun 2019, 05:57PM IST The Reserve Bank of India (RBI) today issued revised circular on resolution of stressed loans. The Supreme Court had on April 2 struck down RBI's February 12 circular whereby the central bank had mandated lenders to initiate resolution or restructuring of loans worth Rs 2,000 crore or more even if the default was recorded for a single day.RBI releases prudential framework for resolution of stressed assets\n",
      "RBI wasn’t explicit enough on liquidity: Lakshmi Iyer 7 Jun 2019, 03:57PM IST The Reserve Bank of India on Thursday delivered exactly what the markets had ordered. Yet, domestic equity indices logged their biggest one-day fall of 2019. Lakshmi Iyer of Kotak Mutual Fund decodes why the money policy did not go down well with the market and what the policy signalled for the interest rate cycle.RBI wasn’t explicit enough on liquidity: Lakshmi Iyer\n",
      "RBI monetary policy: What the rate cut means for your money 6 Jun 2019, 08:41PM IST Continuing to deliver good news for borrowers, the Reserve Bank of India (RBI) has announced another repo rate cut by 25 basis points. This is the third time in a row that the central bank has cut key rates this calendar year. Borrowers can hope for more rate cuts in the future as monetary policy stance has been changed from neutral to accommodative. Here is how Thursday's key announcements will affect your personal finances. (Text: ET Online)RBI monetary policy: What the rate cut means for your money\n",
      "RBI money policy: 25 bps rate cut on the cards 6 Jun 2019, 08:37AM IST With economic growth likely to slow down in the March quarter 2019, the RBI may cut repo rate by 25 basis points in the upcoming monetary policy review, analysts say. The Reserve Bank will announce its second bi-monthly monetary policy for the current fiscal on June 6. This will be the first policy meet of the central bank after the Lok Sabha elections 2019.RBI money policy: 25 bps rate cut on the cards\n",
      "Never miss a great news story!\n",
      "Get instant notifications from Economic Times\n",
      "AllowNot now\n",
      "You can switch off notifications anytime using browser settings.\n",
      "The Reserve Bank of India is likely to cement its position as Asia’s most dovish central bank with a third straight interest-rate cut Thursday.The six-member monetary policy committee led by Governor Shaktikanta Das will reduce the repurchase rate by 25 basis points to 5.75 per cent on Thursday, say 31 of 43 economists surveyed by Bloomberg, while three are penciling in a 50 basis points cut. The RBI may also switch its stance to accommodative from neutral, given that expectations are growing for the Federal Reserve to slash rates this year.Inflation that’s stayed close to the lower end of RBI’s 2-6 per cent band for six months has given policy makers room to support economic growth. India is among central banks across Asia shifting to looser monetary policy to boost their economies amid risks from the US-China trade war. Philippines, Malaysia and New Zealand eased last month, while Australia cut interest rates this week for the first time in almost three years.The policy decision will be announced at 11:45 a.m. in Mumbai, followed by a press conference 15 minutes later by Das. Here’s a look at what else to watch out for in the decision that comes weeks before the new government’s annual budget on July 5: Gross domestic product growth slowed to a five-year low of 5.8 per cent in the first three months of the year. Investment has been subdued and early indicators from auto sales to air travel show consumption -- which contributes more than 60 per cent to GDP -- has waned amid a crisis in the shadow banking sector that’s curbed lending.At its last policy meeting, the central bank cut its GDP forecast for the current fiscal year to 7.2 per cent from 7.4 per cent. Still, the reading depends on how the crucial monsoon season pans out. For now, the southwest monsoon, which waters more than half of India’s farmland between June and September, is expected to bring normal rainfall.Economists have already trimmed GDP forecasts to 7.1 per cent for fiscal 2020 in the latest Bloomberg survey from 7.2 per cent previously.“The muted growth seals the case for more rate cuts,” said Upasna Bhardwaj, an economist at Kotak Mahindra Bank Ltd. in Mumbai. “We maintain our expectation of 25 basis point rate cuts in June and August —- though an outside chance of a 50 basis-point rate cut in June itself could build up.”With growth slowing and inflation expected to remain below the RBI’s 4 per cent medium-term target in 2019, the central bank has room to cut. Underlying inflation, which strips out volatile fuel and food prices, has eased since November and economists expect it to move toward the headline rate in the coming months.Policy makers might choose to gloss over a recent uptick in food costs, given record grain stocks and declining oil prices.Apart from its likely rate cut, the RBI will have to tackle issues surrounding sluggish monetary policy transmission. Despite lowering rates by 50 basis points this year, bank lending costs have been rather sticky amid tighter liquidity. Those conditions, though, are showing nascent signs of easing.“We think that rate cuts need to be accompanied by sustained injections of durable liquidity into the economy,” said Kapil Gupta, an economist at Edelweiss Securities Ltd. in Mumbai. “We also see a good chance of the policy stance shifting to accommodative/dovish from neutral currently.”\n",
      "The Monetary Policy Committee (MPC) of the Reserve Bank of India on Thursday effected a 25 basis points cut in repo rate in its second bimonthly policy review of this financial year.Read the full policy outcome here:On the basis of an assessment of the current and evolving macroeconomic situation, the Monetary Policy Committee (MPC) at its meeting today decided to:• reduce the policy repo rate under the liquidity adjustment facility (LAF) by 25 basis points to 5.75 per cent from 6.0 per cent with immediate effect. Consequently, the reverse repo rate under the LAF stands adjusted to 5.50 per cent, and the marginal standing facility (MSF) rate and the Bank Rate to 6.0 per cent. The MPC also decided to change the stance of monetary policy from neutral to accommodative. These decisions are in consonance with the objective of achieving the medium-term target for consumer price index (CPI) inflation of 4 per cent within a band of +/- 2 per cent, while supporting growth.The main considerations underlying the decision are set out in the statement below. Assessment2. Global economic activity has been losing pace after a somewhat improved performance in Q1:2019, reflecting further slowdown in trade and manufacturing activity. Among advanced economies (AEs), economic activity in the US strengthened in Q1, supported by higher government spending, increase in private investment and a lower trade deficit. However, factory activity and retail sales moderated in April. Economic activity in the Euro area has remained weak due to muted industrial activity and weak business confidence. Leading indicators point to a further slowdown in the Euro area in Q2. In the UK, GDP growth for Q1 picked up on high retail sales and government expenditure. However, the outlook is clouded by uncertainty relating to Brexit. The Japanese economy accelerated in Q1 on net exports gains and increased public investment. In April, industrial production improved, while retail sales fell.3. Economic activity has slowed in many emerging market economies (EMEs). In Q1:2019, the Chinese economy grew at the same pace as in the previous quarter, though slightly above consensus expectations. However, incoming data on industrial production and retail sales suggest that the growth momentum may weaken in Q2. The Russian economy, which had shown some signs of recovery in Q4:2018, weakened in Q1 on muted domestic activity and trade. Economic activity in South Africa contracted in Q1 pulled down mainly by a sharp decline in manufacturing activity. Brazil’s economy contracted in Q1 for the first time since 2016 and there are fears that it could return to recession.4. Crude oil prices remained volatile, reflecting evolving demand-supply conditions underpinned by the production stance of the OPEC plus, rising shale output, weakening global demand and geopolitical concerns. The strengthening of the US dollar had weakened gold prices; however, prices picked up since the last week of May on escalating trade tensions, reviving its demand as a safe haven asset. Inflation remains below target in several economies, though it has shown an uptick since March.5. Financial markets have been driven by uncertainties surrounding US-China trade negotiations and Brexit. In the US, the equity market has experienced some selling pressures since early May on escalation of trade tensions with China and recently, with Mexico. Equity markets in most EMEs have lost steam due to the waning risk appetite on rising geo-political uncertainties and weakening global trade prospects. Bond yields in the US picked up in April on better GDP data for Q1, but declined in May on subdued economic data and expectations of a dovish monetary policy stance. Bond yields in Germany slipped into negative territory on weak economic data; in Japan, they remained negative on indications of sustained accommodation. In many EMEs, bond yields have been falling with central banks adopting accommodative monetary policy to boost economic growth. In currency markets, the US dollar strengthened on better than expected domestic economic data for Q1. Most EME currencies have depreciated against the US dollar. Domestic Economy6. Turning to the domestic economy, on May 31, 2019 the National Statistical Office (NSO) released quarterly estimates of gross domestic product (GDP) for Q4:2018-19 and provisional estimates of national income for 2018-19. GDP growth for 2018-19 has been estimated at 6.8 per cent year-on-year (y-o-y), down by 20 basis points from the second advance estimates released on February 28, pulled down by a downward revision in private final consumption expenditure (PFCE) and moderation in exports. Quarterly data show that domestic economic activity decelerated sharply to 5.8 per cent in Q4:2018-19 from 6.6 per cent in Q3 and 8.1 per cent in Q4:2017-18. Gross fixed capital formation (GFCF) growth declined sharply to 3.6 per cent, after remaining in double digits in the previous five quarters. Private consumption growth also moderated. The drag on aggregate demand from net exports increased in Q4 due to a sharper deceleration in exports relative to imports. However, the overall slowdown in growth was cushioned by a large increase in government final consumption expenditure (GFCE).7. On the supply side, agriculture and allied activities contracted, albeit marginally, in Q4:2018-19 due to a decline in rabi production. According to the third advance estimates, foodgrains production at 283.4 million tonnes for 2018-19 was lower by 0.6 per cent compared with the previous year mainly due to lower production of rabi rice, pulses and coarse cereals. However, there has been a catch-up in foodgrains production relative to earlier estimates. Foodgrains stocks at 72.6 million tonnes as on May 16, 2019 were 3.4 times the prescribed buffer norms. Growth in manufacturing activity weakened sharply to 3.1 per cent from 6.4 per cent in the previous quarter. Service sector growth, however, accelerated, supported by financial, real estate and professional services, and public administration, defence and other services. In contrast, construction activity slowed down markedly.8. Moving beyond Q4, the India Meteorological Department (IMD) has predicted that south-west monsoon rainfall (June to September) is likely to be normal at 96 per cent of the long period average (LPA). The current weak El Niño conditions over the Pacific are likely to continue during the monsoon. However, currently prevailing neutral Indian Ocean Dipole (IOD) conditions may turn positive in the middle of the monsoon season and persist thereafter, which augur well for the rainfall outlook.9. Growth in eight core industries decelerated sharply in April, pulled down largely by coal, crude oil, fertilisers and cement. Credit flows from banks to large industries strengthened, though they remained muted for micro, small and medium industries. Based on early results of the Reserve Bank’s order books, inventory and capacity utilisation survey (OBICUS), capacity utilisation (CU) in the manufacturing sector improved to 77 per cent in Q4 from 75.9 per cent in Q3; seasonally adjusted CU, however, slipped marginally to 75.2 per cent in Q4 from 75.8 per cent in Q3. The business assessment index (BAI) of the industrial outlook survey (IOS) in Q1:2019-20 remained unchanged at its level in the previous quarter. Imports of capital goods – a key indicator of investment activity – remained anaemic in April. However, the manufacturing purchasing managers’ index (PMI) edged up to 52.7 in May with strengthening of output, new orders and employment.10. High frequency indicators suggest moderation in activity in the service sector. Sales of commercial vehicles, tractors, passenger cars, and three and two wheelers contracted in April. Railway freight traffic growth decelerated. Domestic air passenger traffic growth contracted in March, but turned around modestly in April. Two key indicators of construction activity, viz., cement production and steel consumption, slowed down in April. The PMI services index moderated to 50.2 in May on subdued growth of new businesses.11. Retail inflation, measured by y-o-y change in CPI, remained unchanged in April, at its March level of 2.9 per cent, with higher inflation in food and fuel groups being offset by lower inflation in items excluding food and fuel.12. The April food inflation print showed an increase to 1.4 per cent from 0.7 per cent in March. Within the food group, vegetables moved out of nine months of deflation. However, three sub-groups, viz., fruits, pulses and sugar, remained in deflation in April, though the extent of deflation moderated. Among other food sub-groups, inflation in prices of milk, oils and fats, spices, non-alcoholic beverages and prepared meals moderated, while inflation in meat, fish and eggs prices ticked up.13. Inflation in the fuel and light group rose to 2.6 per cent in April from the February trough of 1.2 per cent, pulled up by prices of liquified petroleum gas due to an increase in international prices. Inflation in subsidised kerosene also rose, reflecting the impact of the calibrated increase in its administered price. Electricity prices moved out of three months of deflation in April. Prices of rural fuel consumption items – firewood, chips and dung cake – moved into deflation.14. CPI inflation excluding food and fuel fell sharply to 4.5 per cent in April from 5.1 per cent in March – the largest monthly decline since April 2017. The moderation in inflation was broad-based, with household goods and services, and personal care and effects sub-groups registering the largest fall in April; housing inflation was the lowest since June 2017, reflecting softening in house rents in urban areas. Inflation in clothing and footwear also touched its historical low in the new all-India CPI series. Inflation in education, health and transportation and communication moderated as well.15. Inflation expectations of households in the May 2019 round of Reserve Bank’s survey declined by 20 basis points for the three-month ahead horizon compared with the previous round, but remained unchanged for the one-year ahead horizon. However, manufacturing firms participating in the Reserve Bank’s industrial outlook survey expect input cost pressures to intensify on account of higher raw material costs and salaries in Q2. Input price pressures eased in both agricultural and industrial raw materials. Nominal growth in rural wages and in organised sector staff costs remained muted.16. Liquidity in the system turned into an average daily surplus of Rs 66,000 crore (Rs 660 billion) in early June after remaining in deficit during April and most of May due to restrained government spending. The Reserve Bank injected liquidity of Rs 70,000 crore (Rs 700 billion) in April and Rs 33,400 crore (Rs 334 billion) in May on a daily net average basis under the LAF. It conducted two OMO purchase auctions in May amounting to Rs 25,000 crore (Rs 250 billion) and a US dollar buy/sell swap auction of US$ 5 billion (Rs 34,874 crore) for a tenor of 3 years in April to inject durable liquidity into the system. The weighted average call money rate (WACR) – the operating target of monetary policy – remained broadly aligned with the policy repo rate: it traded above the policy repo rate (on an average) by 6 bps in April, but below the policy repo rate by 6 bps in May. The Reserve Bank has announced that it would conduct an OMO purchase auction of Rs 15,000 crore (Rs 150 billion) on June 13, 2019.17. Transmission of the cumulative reduction of 50 bps in the policy repo rate in February and April 2019 was 21 bps to the weighted average lending rate (WALR) on fresh rupee loans. However, the WALR on outstanding rupee loans increased by 4 bps as the past loans continue to be priced at high rates. Interest rates on longer tenor money market instruments remained broadly aligned with the overnight WACR, reflecting near full transmission of the reduction in policy rate.18. Exports were unable to sustain the growth of 11.8 per cent observed in March 2019; they grew by 0.6 per cent in April 2019 dragged down by engineering goods, gems and jewellery, and leather products. Imports grew at a somewhat accelerated pace in April 2019 relative to the preceding month, driven by imports of petroleum (crude and products), gold and machinery. This led to a widening of the trade deficit, both sequentially and on a y-o-y basis. Provisional data suggest that net services exports in Q4:2018-19 were broadly comparable to their level a year ago which bode well for the current account balance. On the financing side, net foreign direct investment flows were stronger in Q4:2018-19 than a year ago. After a sharp recovery in March 2019, net foreign portfolio inflows were relatively modest at US$ 2.3 billion in 2019-20 in April-May. While the equity segment received net inflows during this period, the debt segment witnessed net outflows. India’s foreign exchange reserves were at US$ 421.9 billion on May 31, 2019.19. In the bi-monthly monetary policy resolution of April 2019, CPI inflation was projected at 2.4 per cent for Q4:2018-19, 2.9-3.0 per cent for H1:2019-20 and 3.5-3.8 per cent for H2:2019-20, with risks broadly balanced. The headline inflation outcome in Q4 at 2.5 per cent was largely in alignment with the April policy projections.20. The baseline inflation trajectory for 2019-20 is shaped by several factors. First, the summer pick-up in vegetable prices has been sharper than expected, though this may be accompanied by a correspondingly larger reversal during autumn and winter. More recent information also suggests a broad-based pick-up in prices in several food items. This has imparted an upward bias to the nearterm trajectory of food inflation. Second, a significant weakening of domestic and external demand conditions appear to have led to a sharp broad-based decline of 60 bps in inflation excluding food and fuel in April; this has imparted a downward bias to the inflation trajectory for the rest of the year. Third, crude prices have continued to be volatile. However, its impact on CPI inflation has been muted so far due to incomplete pass-through. Fourth, near-term inflation expectations of households have continued to moderate. Taking into consideration these factors, the impact of recent policy rate cuts and expectations of a normal monsoon in 2019, the path of CPI inflation is revised to 3.0-3.1 per cent for H1:2019-20 and to 3.4-3.7 per cent for H2:2019-20, with risks broadly balanced21. Risks around the baseline inflation trajectory emanate from uncertainties relating to the monsoon, unseasonal spikes in vegetable prices, international fuel prices and their pass-through to domestic prices, geo-political tensions, financial market volatility and the fiscal scenario.22. In the April policy, GDP growth for 2019-20 was projected at 7.2 per cent – in the range of 6.8-7.1 per cent for H1 and 7.3-7.4 per cent for H2 – with risks evenly balanced. Data for Q4:2018-19 indicate that domestic investment activity has weakened and overall demand has been weighed down partly by slowing exports. Weak global demand due to escalation in trade wars may further impact India’s exports and investment activity. Further, private consumption, especially in rural areas, has weakened in recent months. However, on the positive side, political stability, high capacity utilisation, the uptick in business expectations in Q2, buoyant stock market conditions and higher financial flows to the commercial sector augur well for investment activity. Taking into consideration the above factors and the impact of recent policy rate cuts, GDP growth for 2019-20 is revised downwards from 7.2 per cent in the April policy to 7.0 per cent – in the range of 6.4-6.7 per cent for H1:2019-20 and 7.2-7.5 per cent for H2 – with risks evenly balanced23. The MPC notes that growth impulses have weakened significantly as reflected in a further widening of the output gap compared to the April 2019 policy. A sharp slowdown in investment activity along with a continuing moderation in private consumption growth is a matter of concern. The headline inflation trajectory remains below the target mandated to the MPC even after taking into account the expected transmission of the past two policy rate cuts. Hence, there is scope for the MPC to accommodate growth concerns by supporting efforts to boost aggregate demand, and in particular, reinvigorate private investment activity, while remaining consistent with its flexible inflation targeting mandate.24. Against this backdrop, all members of the MPC (Dr. Chetan Ghate, Dr. Pami Dua, Dr. Ravindra H. Dholakia, Dr. Michael Debabrata Patra, Dr. Viral V. Acharya and Shri Shaktikanta Das) unanimously decided to reduce the policy repo rate by 25 basis and change the stance of monetary policy from neutral to accommodative.25. The minutes of the MPC’s meeting will be published by June 20, 2019.26. The next meeting of the MPC is scheduled during August 5 to 7, 2019.\n",
      "Fundamental principles of the new norms 1 Early recognition and reporting of default in respect of large borrowers by banks, FIs and NBFCs\n",
      "Complete discretion to lenders with regard to design and implementation of resolution plans, in supersession of earlier resolution schemes (S4A, SDR, 5/25 etc.), subject to the specified timeline and independent credit evaluation\n",
      "A system of disincentives in the form of additional provisioning for delay in implementation of resolution plan or initiation of insolvency proceedings;\n",
      "Withdrawal of asset classification dispensations on restructuring. Future upgrades to be contingent on a meaningful demonstration of satisfactory performance for a reasonable period\n",
      "For the purpose of restructuring, the definition of ‘financial difficulty’ to be aligned with the guidelines issued by the Basel Committee on Banking Supervision\n",
      "Signing of intercreditor agreement (ICA) by all lenders to be mandatory, which will provide for a majority decision making criteria\n",
      "NEW DELHI: The Reserve Bank of India on Friday issued a revised circular on resolution of stressed assets. Under the new norms, lenders can now review borrowers’ accounts within 30 days of default compared with the one-day rule in Fe bruary 12, 2018 circular.The new resolution plan also gives complete discretion to lenders with regard to the design and implementation of resolution plans.Lenders now must have to resolve over Rs 2,000 crore NPA account within 180 days. RBI has also proposed disincentives such as additional provisioning for the delay in implementation of resolution plan or initiation of insolvency proceedings. The apex bank will issue directions to banks for the initiation of insolvency.“It is expected that the current circular will sustain the improvements in credit culture that have been ushered in by the efforts of the government and RBI so far and that it will go a long way in promoting a strong and resilient financial system in India,” the central bank said in a release.RBI also said that the definition of ‘financial difficulty’ will be aligned with the guidelines issued by the Basel Committee on Banking Supervision for the purpose of restructuring.The apex bank added that signing of intercreditor agreement (ICA) by all lenders will be mandatory, which will provide for a majority decision making criteria.RBI also highlighted that all lenders must put in place board-approved policies for resolution of stressed assets, including the timelines for resolution.“Since default with any lender is a lagging indicator of financial stress faced by the borrower, it is expected that the lenders initiate the process of implementing a resolution plan (RP) even before a default,” it said.It also said that lenders should report credit information, including classification of an account as special mention accounts (SMA) to Central Repository of Information on Large Credits (CRILC), on all borrowers having aggregate exposure of Rs 5 crore and above with them.The Supreme Court on April 2, 2019 had thrashed RBI’s February 12, 2018 norms on stressed assets.\n"
     ]
    }
   ],
   "source": [
    "for s in x:\n",
    "    print(s.text)"
   ]
  },
  {
   "cell_type": "code",
   "execution_count": null,
   "metadata": {},
   "outputs": [],
   "source": []
  }
 ],
 "metadata": {
  "kernelspec": {
   "display_name": "Python 3",
   "language": "python",
   "name": "python3"
  },
  "language_info": {
   "codemirror_mode": {
    "name": "ipython",
    "version": 3
   },
   "file_extension": ".py",
   "mimetype": "text/x-python",
   "name": "python",
   "nbconvert_exporter": "python",
   "pygments_lexer": "ipython3",
   "version": "3.6.7"
  }
 },
 "nbformat": 4,
 "nbformat_minor": 2
}
