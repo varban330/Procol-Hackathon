{
 "cells": [
  {
   "cell_type": "code",
   "execution_count": 10,
   "metadata": {},
   "outputs": [],
   "source": [
    "from newsplease import NewsPlease\n"
   ]
  },
  {
   "cell_type": "code",
   "execution_count": 25,
   "metadata": {},
   "outputs": [],
   "source": [
    "article = NewsPlease.from_url('https://economictimes.indiatimes.com/markets/commodities/news/basmati-acreage-may-rise-up-to-20-on-higher-iran-demand/articleshow/69572834.cms')"
   ]
  },
  {
   "cell_type": "code",
   "execution_count": 26,
   "metadata": {},
   "outputs": [
    {
     "data": {
      "text/plain": [
       "'Basmati acreage may rise up to 20% on higher Iran demand'"
      ]
     },
     "execution_count": 26,
     "metadata": {},
     "output_type": "execute_result"
    }
   ],
   "source": [
    "article.title"
   ]
  },
  {
   "cell_type": "code",
   "execution_count": 27,
   "metadata": {},
   "outputs": [
    {
     "data": {
      "text/plain": [
       "'Chandigarh: Farmers are expected to grow more Basmati rice this kharif season , with the acreage under cultivation likely to go up by up to 20 per cent, driven by higher remuneration, low carryover stock and increased demand from Iran.“Going by the sale of seeds, many farmers are likely to shift from normal paddy to Basmati this year as the income has been better in the last season,” a Haryana agriculture department official said.Normal rice cultivation has started with planting of nurseries in the Northern states and will be followed by sowing of Basmati rice in the coming weeks. The area under Basmati is expected to grow by 20-25 per cent in Punjab this season as farmers’ income rose 15-20 per cent in the last season.“The Basmati industry follows a cyclical trade trajectory and the previous year had been a good year,” a rice trader said. “There will be little carryover stock due to better-than-usual international demand for Basmati. So, the market is expected to remain firm in the coming months,” said Vijay Sethia, president of the All India Rice Exporters Association Export of the premium variety — India has an 85 per cent share in the Basmati exports market — has grown by 10 per cent in 2018-19, primarily due to higher demand from Iran.The prevailing global rice trade is impervious to geopolitical tensions between the United States and Iran, although exporters are unsure of payments in the next season in case of a flare-up.“Basmati exports to Iran have braved the international turmoil in the past and a shipment usually gets routed through the UAE in case of hurdles,” an official in the Agricultural and Processed Food Products Export Development Authority (APEDA) said.Iran buys a quarter of the total Basmati rice that India exports, but trade volumes have grown substantially in 2018-19. The Gulf nation bought 1.4 million tonnes of Basmati rice in 2018-19 compared to its usual demand of around 1 million tonnes.Total Basmati rice exports from India stood at 4.415 million tonnes in 2018-19, compared to 4.056 million tonnes in the previous financial year. Traders say the current trade balance between India and Iran is conducive for rice export and payments would not be affected, but the likelihood of an escalation in US-Iran relations is keeping exporters on tenterhooks. “There are no hurdles foreseen in payments for rice trade from Iran in the next few months, but the international trade could be affected by a situation of when the new crop will be available,” said Vinod Kumar Kaul, executive director, All India Rice Exporters Association. Basmati rice is harvested by November, but Iran opens up the import window after its domestic rice season gets over by December. The payment for rice exports to Iran is managed through an escrow account that is balanced with crude oil supply. “The crude oil trade import from Iran is conducive for rice trade and may take care of the next season as well, but hurdles in payment could be a concern in the next season,” said Amit Miglani, managing director of rice exporter Lekh Raj Narinder Kumar.'"
      ]
     },
     "execution_count": 27,
     "metadata": {},
     "output_type": "execute_result"
    }
   ],
   "source": [
    "article.text"
   ]
  },
  {
   "cell_type": "code",
   "execution_count": 11,
   "metadata": {},
   "outputs": [],
   "source": [
    "import requests\n",
    "import urllib.request\n",
    "import time\n",
    "from bs4 import BeautifulSoup"
   ]
  },
  {
   "cell_type": "code",
   "execution_count": 3,
   "metadata": {},
   "outputs": [],
   "source": [
    "url = 'https://economictimes.indiatimes.com/topic/Rice'\n",
    "response = requests.get(url)"
   ]
  },
  {
   "cell_type": "code",
   "execution_count": 4,
   "metadata": {},
   "outputs": [
    {
     "data": {
      "text/plain": [
       "<Response [200]>"
      ]
     },
     "execution_count": 4,
     "metadata": {},
     "output_type": "execute_result"
    }
   ],
   "source": [
    "response"
   ]
  },
  {
   "cell_type": "code",
   "execution_count": 37,
   "metadata": {},
   "outputs": [
    {
     "name": "stdout",
     "output_type": "stream",
     "text": [
      "https://economictimes.indiatimes.com/markets/stocks/news/dhfl-uses-cash-from-sale-of-loans-to-clear-obligations/articleshow/69699047.cms\n",
      "https://economictimes.indiatimes.com/markets\n",
      "https://economictimes.indiatimes.com/markets/commodities/news/payment-haze-rice-soya-exporters-unable-to-sign-contracts-with-iran/articleshow/69684911.cms\n",
      "https://economictimes.indiatimes.com/markets/commodities/news/basmati-acreage-may-rise-up-to-20-on-higher-iran-demand/articleshow/69572834.cms\n",
      "https://economictimes.indiatimes.com/marketstats/noofmonths-1,pageno-1,pid-181.cms\n",
      "https://economictimes.indiatimes.com/markets/ipo\n",
      "https://economictimes.indiatimes.com/marketstats/pid-0,pageno-1,sortby-percentchange,sortorder-desc,sort-intraday,exchange-50.cms\n",
      "https://economictimes.indiatimes.com/marketstats/pid-0,pageno-1,sortby-percentchange,sortorder-desc,sort-intraday.cms\n",
      "https://economictimes.indiatimes.com/markets/expert-view/sbi-is-transmitting-65-bps-of-total-75-bps-rate-cut-to-ccod-customers-prashant-kumar/articleshow/69688382.cms\n",
      "https://economictimes.indiatimes.com/markets/expert-view/sbi-is-transmitting-65-bps-of-total-75-bps-rate-cut-to-ccod-customers-prashant-kumar/articleshow/69688382.cms\n",
      "https://economictimes.indiatimes.com/markets/statistics/marketcoverage.cms\n",
      "https://economictimes.indiatimes.com/markets/stock-market-crash\n",
      "https://economictimes.indiatimes.com/markets/forex/indian-rupee\n",
      "https://economictimes.indiatimes.com/markets/rbi\n",
      "https://economictimes.indiatimes.com/markets/forex/currency-converter\n",
      "https://economictimes.indiatimes.com/markets/stocks/news/d-day-guide-third-straight-rbi-rate-cut-seen-as-economy-cools/articleshow/69671599.cms\n",
      "https://economictimes.indiatimes.com/markets/stocks/news/full-text-what-drove-rbi-to-cut-rate-shift-stance/articleshow/69672669.cms\n",
      "https://economictimes.indiatimes.com/markets/stocks/news/rbi-issues-revised-circular-on-npas-lenders-can-review-accounts-within-30-days-of-default/articleshow/69692236.cms\n"
     ]
    }
   ],
   "source": [
    "# Import libraries\n",
    "import requests\n",
    "import urllib.request\n",
    "import time\n",
    "from bs4 import BeautifulSoup\n",
    "\n",
    "# Set the URL you want to webscrape from\n",
    "def scrape(string):\n",
    "    url = 'https://economictimes.indiatimes.com/topic/'+string\n",
    "\n",
    "    # Connect to the URL\n",
    "    response = requests.get(url)\n",
    "\n",
    "    # Parse HTML and save to BeautifulSoup object¶\n",
    "    soup = BeautifulSoup(response.text, \"html.parser\")\n",
    "    articles = []\n",
    "\n",
    "    x = soup.findAll('a')\n",
    "    # To download the whole data set, let's do a for loop through all a tags\n",
    "    for i in range(len(x)): #'a' tags are for links\n",
    "        one_a_tag = x[i]\n",
    "        if one_a_tag.has_attr('href'):\n",
    "            link = one_a_tag['href']\n",
    "            if  not link.startswith('http'):\n",
    "                if link.startswith('/markets'):\n",
    "                    download_url = 'https://economictimes.indiatimes.com'+ link\n",
    "                    print(download_url)\n",
    "                    articles.append(NewsPlease.from_url(download_url))"
   ]
  },
  {
   "cell_type": "code",
   "execution_count": 40,
   "metadata": {},
   "outputs": [
    {
     "data": {
      "text/plain": [
       "'DHFL uses cash from sale of loans to clear obligations'"
      ]
     },
     "execution_count": 40,
     "metadata": {},
     "output_type": "execute_result"
    }
   ],
   "source": [
    "articles[0].title"
   ]
  },
  {
   "cell_type": "code",
   "execution_count": null,
   "metadata": {},
   "outputs": [],
   "source": []
  }
 ],
 "metadata": {
  "kernelspec": {
   "display_name": "Python 3",
   "language": "python",
   "name": "python3"
  },
  "language_info": {
   "codemirror_mode": {
    "name": "ipython",
    "version": 3
   },
   "file_extension": ".py",
   "mimetype": "text/x-python",
   "name": "python",
   "nbconvert_exporter": "python",
   "pygments_lexer": "ipython3",
   "version": "3.6.6"
  }
 },
 "nbformat": 4,
 "nbformat_minor": 2
}
